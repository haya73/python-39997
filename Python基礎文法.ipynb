{
  "nbformat": 4,
  "nbformat_minor": 0,
  "metadata": {
    "colab": {
      "provenance": []
    },
    "kernelspec": {
      "name": "python3",
      "display_name": "Python 3"
    },
    "language_info": {
      "name": "python"
    }
  },
  "cells": [
    {
      "cell_type": "code",
      "execution_count": null,
      "metadata": {
        "colab": {
          "base_uri": "https://localhost:8080/"
        },
        "id": "23ePwXPaVzwZ",
        "outputId": "2618f31b-b84b-4042-bdef-c07fa99bfc50"
      },
      "outputs": [
        {
          "output_type": "stream",
          "name": "stdout",
          "text": [
            "Hello World\n"
          ]
        }
      ],
      "source": [
        "print(\"Hello World\")"
      ]
    },
    {
      "cell_type": "code",
      "source": [
        "# これはHello Worldと表示するプログラムです\n",
        "print(\"Hello World\")\n",
        "\n",
        "# これはコメントアウトされるため何も処理を行いません\n",
        "# print(\"こんにちは世界\")"
      ],
      "metadata": {
        "id": "PETXeXplWj48"
      },
      "execution_count": null,
      "outputs": []
    },
    {
      "cell_type": "code",
      "source": [
        "\"Hey!\" + \" brother!\""
      ],
      "metadata": {
        "id": "5Gtod4meXdQM",
        "outputId": "b33ef76d-8592-4e4c-b5ea-5539d2c34842",
        "colab": {
          "base_uri": "https://localhost:8080/",
          "height": 35
        }
      },
      "execution_count": null,
      "outputs": [
        {
          "output_type": "execute_result",
          "data": {
            "text/plain": [
              "'Hey! brother!'"
            ],
            "application/vnd.google.colaboratory.intrinsic+json": {
              "type": "string"
            }
          },
          "metadata": {},
          "execution_count": 1
        }
      ]
    },
    {
      "cell_type": "code",
      "source": [
        "# 文字列の文字数を出す\n",
        "len(\"Hello World\")"
      ],
      "metadata": {
        "colab": {
          "base_uri": "https://localhost:8080/"
        },
        "id": "Tcprv7lrKT9J",
        "outputId": "e4b782ce-b5e0-4db1-e924-5b9dfd5574ae"
      },
      "execution_count": null,
      "outputs": [
        {
          "output_type": "execute_result",
          "data": {
            "text/plain": [
              "11"
            ]
          },
          "metadata": {},
          "execution_count": 2
        }
      ]
    },
    {
      "cell_type": "code",
      "source": [
        "# int関数で文字列を数値に変換\n",
        "int(\"100\") + 400"
      ],
      "metadata": {
        "colab": {
          "base_uri": "https://localhost:8080/"
        },
        "id": "K9xXd6sRKmqa",
        "outputId": "18448dab-61b7-4c76-e2c8-6baef6465a90"
      },
      "execution_count": null,
      "outputs": [
        {
          "output_type": "execute_result",
          "data": {
            "text/plain": [
              "500"
            ]
          },
          "metadata": {},
          "execution_count": 3
        }
      ]
    },
    {
      "cell_type": "code",
      "source": [
        "# f文字列を使って、文字列に式を埋め込む\n",
        " f\"今日で{19 + 1}歳になりました\""
      ],
      "metadata": {
        "colab": {
          "base_uri": "https://localhost:8080/",
          "height": 106
        },
        "id": "ZoEszhAiKtuk",
        "outputId": "fd88650d-dc06-4d4f-d255-4ccad87f0954"
      },
      "execution_count": null,
      "outputs": [
        {
          "output_type": "error",
          "ename": "IndentationError",
          "evalue": "unexpected indent (<ipython-input-4-99d8f38c6efb>, line 2)",
          "traceback": [
            "\u001b[0;36m  File \u001b[0;32m\"<ipython-input-4-99d8f38c6efb>\"\u001b[0;36m, line \u001b[0;32m2\u001b[0m\n\u001b[0;31m    f\"今日で{19 + 1}歳になりました\"\u001b[0m\n\u001b[0m    ^\u001b[0m\n\u001b[0;31mIndentationError\u001b[0m\u001b[0;31m:\u001b[0m unexpected indent\n"
          ]
        }
      ]
    },
    {
      "cell_type": "code",
      "source": [
        "\"ようこそ！名前を入力してください\"\n",
        "\n",
        "\"秒数を知りたい時間を分単位で入力してください\"\n",
        "\n",
        "f\"タロウさん、{5}分は{5 * 60}秒です！\""
      ],
      "metadata": {
        "id": "nsGjjN_ZK3aG",
        "outputId": "7119f121-35c0-4dad-fd8b-e31637dea87c",
        "colab": {
          "base_uri": "https://localhost:8080/",
          "height": 35
        }
      },
      "execution_count": null,
      "outputs": [
        {
          "output_type": "execute_result",
          "data": {
            "text/plain": [
              "'タロウさん、5分は300秒です！'"
            ],
            "application/vnd.google.colaboratory.intrinsic+json": {
              "type": "string"
            }
          },
          "metadata": {},
          "execution_count": 5
        }
      ]
    },
    {
      "cell_type": "code",
      "source": [
        "# piという変数の中身を、円周率の3.14159であると定義する\n",
        "pi = 3.14159\n",
        "\n",
        "# piを表示させると、格納された3.14159が返ってくる\n",
        "print(pi)\n",
        "# →3.14159\n",
        "\n",
        "# 何度実行しても、格納された3.14159が返ってくる\n",
        "print(pi)\n",
        "# →3.14159"
      ],
      "metadata": {
        "colab": {
          "base_uri": "https://localhost:8080/"
        },
        "id": "l6P7sz7RvIww",
        "outputId": "e39859fd-0bfd-47f3-92df-613540f3e058"
      },
      "execution_count": null,
      "outputs": [
        {
          "output_type": "stream",
          "name": "stdout",
          "text": [
            "3.14159\n",
            "3.14159\n"
          ]
        }
      ]
    },
    {
      "cell_type": "code",
      "source": [
        "# 変数に値を代入\n",
        "name = \"takashi\"\n",
        "\n",
        "# 文字数を調べる\n",
        "name_length = len(name)\n",
        "print(name_length)\n",
        "\n",
        "# → 7\n",
        "\n",
        "# 変数を出力\n",
        "print(name)\n",
        "\n",
        "# → 'takashi'"
      ],
      "metadata": {
        "colab": {
          "base_uri": "https://localhost:8080/"
        },
        "id": "kdZU8B8avSDQ",
        "outputId": "2df84ad5-a25b-4597-958b-629ab79e9b98"
      },
      "execution_count": null,
      "outputs": [
        {
          "output_type": "stream",
          "name": "stdout",
          "text": [
            "7\n",
            "takashi\n"
          ]
        }
      ]
    },
    {
      "cell_type": "code",
      "source": [
        "\"ようこそ！名前を入力してください\"\n",
        "name = \"タロウ\"\n",
        "\n",
        "\"秒数を知りたい時間を分単位で入力してください\"\n",
        "minutes = 5\n",
        "\n",
        "f\"{name}さん、{minutes}分は{minutes * 60}秒です！\""
      ],
      "metadata": {
        "colab": {
          "base_uri": "https://localhost:8080/",
          "height": 35
        },
        "id": "nrmEpzqAvVEY",
        "outputId": "137268b5-bb34-41f5-d1b0-ebe3e778f137"
      },
      "execution_count": null,
      "outputs": [
        {
          "output_type": "execute_result",
          "data": {
            "text/plain": [
              "'タロウさん、5分は300秒です！'"
            ],
            "application/vnd.google.colaboratory.intrinsic+json": {
              "type": "string"
            }
          },
          "metadata": {},
          "execution_count": 3
        }
      ]
    },
    {
      "cell_type": "code",
      "source": [
        "\"ようこそ！名前を入力してください\"\n",
        "name = \"タロウ\"\n",
        "\n",
        "\"秒数を知りたい時間を分単位で入力してください\"\n",
        "minutes = 5\n",
        "seconds = minutes * 60\n",
        "\n",
        "f\"{name}さん、{minutes}分は{seconds}秒です！\""
      ],
      "metadata": {
        "id": "RBChp0fjvZoS",
        "outputId": "2c90d7f6-aa9a-405e-8c3c-ab9f93d8f10b",
        "colab": {
          "base_uri": "https://localhost:8080/",
          "height": 35
        }
      },
      "execution_count": null,
      "outputs": [
        {
          "output_type": "execute_result",
          "data": {
            "text/plain": [
              "'タロウさん、5分は300秒です！'"
            ],
            "application/vnd.google.colaboratory.intrinsic+json": {
              "type": "string"
            }
          },
          "metadata": {},
          "execution_count": 4
        }
      ]
    },
    {
      "cell_type": "code",
      "source": [
        "text = input()\n",
        "\n",
        "print(f\"入力した値は{text}です\")"
      ],
      "metadata": {
        "colab": {
          "base_uri": "https://localhost:8080/"
        },
        "id": "FruPqcWwj__K",
        "outputId": "23c42d00-2357-4994-967b-f15ebe0f2ac1"
      },
      "execution_count": null,
      "outputs": [
        {
          "output_type": "stream",
          "name": "stdout",
          "text": [
            "123\n",
            "入力した値は123です\n"
          ]
        }
      ]
    },
    {
      "cell_type": "code",
      "source": [
        "text = input()\n",
        "\n",
        "print(f\"入力した値は{text}です\")\n",
        "print(f\"入力した値は{text}です\\n\")\n",
        "print(f\"入力した値は{text}です\")"
      ],
      "metadata": {
        "colab": {
          "base_uri": "https://localhost:8080/"
        },
        "id": "sOVpuGJ1kM5N",
        "outputId": "9218e23f-93c5-4f9a-bd39-a77979bb5c0d"
      },
      "execution_count": null,
      "outputs": [
        {
          "output_type": "stream",
          "name": "stdout",
          "text": [
            "Python\n",
            "入力した値はPythonです\n",
            "入力した値はPythonです\n",
            "\n",
            "入力した値はPythonです\n"
          ]
        }
      ]
    },
    {
      "cell_type": "code",
      "source": [
        "print(\"ようこそ！\\n名前を入力してください\")\n",
        "name = \"タロウ\"\n",
        "\n",
        "print(\"秒数を知りたい時間を分単位で入力してください\")\n",
        "minutes = 5\n",
        "seconds = minutes * 60\n",
        "\n",
        "print(f\"{name}さん、{minutes}分は{seconds}秒です！\")"
      ],
      "metadata": {
        "colab": {
          "base_uri": "https://localhost:8080/"
        },
        "id": "EByGSfP3kSV3",
        "outputId": "0692c646-8f96-4928-fcfd-c396eea22dc4"
      },
      "execution_count": null,
      "outputs": [
        {
          "output_type": "stream",
          "name": "stdout",
          "text": [
            "ようこそ！\n",
            "名前を入力してください\n",
            "秒数を知りたい時間を分単位で入力してください\n",
            "タロウさん、5分は300秒です！\n"
          ]
        }
      ]
    },
    {
      "cell_type": "code",
      "source": [
        "print(\"ようこそ！\\n名前を入力してください\")\n",
        "name = input()\n",
        "\n",
        "print(\"秒数を知りたい時間を分単位で入力してください\")\n",
        "minutes = int(input())\n",
        "seconds = minutes * 60\n",
        "\n",
        "print(f\"{name}さん、{minutes}分は{seconds}秒です！\")"
      ],
      "metadata": {
        "colab": {
          "base_uri": "https://localhost:8080/"
        },
        "id": "A97oxvmIkgUl",
        "outputId": "3238a992-8e53-4ecd-daff-d8a02200afdb"
      },
      "execution_count": null,
      "outputs": [
        {
          "output_type": "stream",
          "name": "stdout",
          "text": [
            "ようこそ！\n",
            "名前を入力してください\n",
            "Pt\n",
            "秒数を知りたい時間を分単位で入力してください\n",
            "500\n",
            "Ptさん、500分は30000秒です！\n"
          ]
        }
      ]
    }
  ]
}