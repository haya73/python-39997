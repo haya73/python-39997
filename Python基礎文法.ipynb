{
  "nbformat": 4,
  "nbformat_minor": 0,
  "metadata": {
    "colab": {
      "provenance": [],
      "authorship_tag": "ABX9TyNQhK1Xni9XkixObaJMs4YR",
      "include_colab_link": true
    },
    "kernelspec": {
      "name": "python3",
      "display_name": "Python 3"
    },
    "language_info": {
      "name": "python"
    }
  },
  "cells": [
    {
      "cell_type": "markdown",
      "metadata": {
        "id": "view-in-github",
        "colab_type": "text"
      },
      "source": [
        "<a href=\"https://colab.research.google.com/github/haya73/python-39997/blob/main/Python%E5%9F%BA%E7%A4%8E%E6%96%87%E6%B3%95.ipynb\" target=\"_parent\"><img src=\"https://colab.research.google.com/assets/colab-badge.svg\" alt=\"Open In Colab\"/></a>"
      ]
    },
    {
      "cell_type": "code",
      "execution_count": null,
      "metadata": {
        "colab": {
          "base_uri": "https://localhost:8080/"
        },
        "id": "23ePwXPaVzwZ",
        "outputId": "2618f31b-b84b-4042-bdef-c07fa99bfc50"
      },
      "outputs": [
        {
          "output_type": "stream",
          "name": "stdout",
          "text": [
            "Hello World\n"
          ]
        }
      ],
      "source": [
        "print(\"Hello World\")"
      ]
    },
    {
      "cell_type": "code",
      "source": [
        "# これはHello Worldと表示するプログラムです\n",
        "print(\"Hello World\")\n",
        "\n",
        "# これはコメントアウトされるため何も処理を行いません\n",
        "# print(\"こんにちは世界\")"
      ],
      "metadata": {
        "id": "PETXeXplWj48"
      },
      "execution_count": null,
      "outputs": []
    },
    {
      "cell_type": "code",
      "source": [
        "\"Hey!\" + \" brother!\""
      ],
      "metadata": {
        "id": "5Gtod4meXdQM",
        "outputId": "b33ef76d-8592-4e4c-b5ea-5539d2c34842",
        "colab": {
          "base_uri": "https://localhost:8080/",
          "height": 35
        }
      },
      "execution_count": null,
      "outputs": [
        {
          "output_type": "execute_result",
          "data": {
            "text/plain": [
              "'Hey! brother!'"
            ],
            "application/vnd.google.colaboratory.intrinsic+json": {
              "type": "string"
            }
          },
          "metadata": {},
          "execution_count": 1
        }
      ]
    },
    {
      "cell_type": "code",
      "source": [
        "# 文字列の文字数を出す\n",
        "len(\"Hello World\")"
      ],
      "metadata": {
        "colab": {
          "base_uri": "https://localhost:8080/"
        },
        "id": "Tcprv7lrKT9J",
        "outputId": "e4b782ce-b5e0-4db1-e924-5b9dfd5574ae"
      },
      "execution_count": null,
      "outputs": [
        {
          "output_type": "execute_result",
          "data": {
            "text/plain": [
              "11"
            ]
          },
          "metadata": {},
          "execution_count": 2
        }
      ]
    },
    {
      "cell_type": "code",
      "source": [
        "# int関数で文字列を数値に変換\n",
        "int(\"100\") + 400"
      ],
      "metadata": {
        "colab": {
          "base_uri": "https://localhost:8080/"
        },
        "id": "K9xXd6sRKmqa",
        "outputId": "18448dab-61b7-4c76-e2c8-6baef6465a90"
      },
      "execution_count": null,
      "outputs": [
        {
          "output_type": "execute_result",
          "data": {
            "text/plain": [
              "500"
            ]
          },
          "metadata": {},
          "execution_count": 3
        }
      ]
    },
    {
      "cell_type": "code",
      "source": [
        "# f文字列を使って、文字列に式を埋め込む\n",
        " f\"今日で{19 + 1}歳になりました\""
      ],
      "metadata": {
        "colab": {
          "base_uri": "https://localhost:8080/",
          "height": 106
        },
        "id": "ZoEszhAiKtuk",
        "outputId": "fd88650d-dc06-4d4f-d255-4ccad87f0954"
      },
      "execution_count": null,
      "outputs": [
        {
          "output_type": "error",
          "ename": "IndentationError",
          "evalue": "unexpected indent (<ipython-input-4-99d8f38c6efb>, line 2)",
          "traceback": [
            "\u001b[0;36m  File \u001b[0;32m\"<ipython-input-4-99d8f38c6efb>\"\u001b[0;36m, line \u001b[0;32m2\u001b[0m\n\u001b[0;31m    f\"今日で{19 + 1}歳になりました\"\u001b[0m\n\u001b[0m    ^\u001b[0m\n\u001b[0;31mIndentationError\u001b[0m\u001b[0;31m:\u001b[0m unexpected indent\n"
          ]
        }
      ]
    },
    {
      "cell_type": "code",
      "source": [
        "\"ようこそ！名前を入力してください\"\n",
        "\n",
        "\"秒数を知りたい時間を分単位で入力してください\"\n",
        "\n",
        "f\"タロウさん、{5}分は{5 * 60}秒です！\""
      ],
      "metadata": {
        "id": "nsGjjN_ZK3aG",
        "outputId": "7119f121-35c0-4dad-fd8b-e31637dea87c",
        "colab": {
          "base_uri": "https://localhost:8080/",
          "height": 35
        }
      },
      "execution_count": null,
      "outputs": [
        {
          "output_type": "execute_result",
          "data": {
            "text/plain": [
              "'タロウさん、5分は300秒です！'"
            ],
            "application/vnd.google.colaboratory.intrinsic+json": {
              "type": "string"
            }
          },
          "metadata": {},
          "execution_count": 5
        }
      ]
    },
    {
      "cell_type": "code",
      "source": [
        "# piという変数の中身を、円周率の3.14159であると定義する\n",
        "pi = 3.14159\n",
        "\n",
        "# piを表示させると、格納された3.14159が返ってくる\n",
        "print(pi)\n",
        "# →3.14159\n",
        "\n",
        "# 何度実行しても、格納された3.14159が返ってくる\n",
        "print(pi)\n",
        "# →3.14159"
      ],
      "metadata": {
        "colab": {
          "base_uri": "https://localhost:8080/"
        },
        "id": "l6P7sz7RvIww",
        "outputId": "e39859fd-0bfd-47f3-92df-613540f3e058"
      },
      "execution_count": null,
      "outputs": [
        {
          "output_type": "stream",
          "name": "stdout",
          "text": [
            "3.14159\n",
            "3.14159\n"
          ]
        }
      ]
    },
    {
      "cell_type": "code",
      "source": [
        "# 変数に値を代入\n",
        "name = \"takashi\"\n",
        "\n",
        "# 文字数を調べる\n",
        "name_length = len(name)\n",
        "print(name_length)\n",
        "\n",
        "# → 7\n",
        "\n",
        "# 変数を出力\n",
        "print(name)\n",
        "\n",
        "# → 'takashi'"
      ],
      "metadata": {
        "colab": {
          "base_uri": "https://localhost:8080/"
        },
        "id": "kdZU8B8avSDQ",
        "outputId": "2df84ad5-a25b-4597-958b-629ab79e9b98"
      },
      "execution_count": null,
      "outputs": [
        {
          "output_type": "stream",
          "name": "stdout",
          "text": [
            "7\n",
            "takashi\n"
          ]
        }
      ]
    },
    {
      "cell_type": "code",
      "source": [
        "\"ようこそ！名前を入力してください\"\n",
        "name = \"タロウ\"\n",
        "\n",
        "\"秒数を知りたい時間を分単位で入力してください\"\n",
        "minutes = 5\n",
        "\n",
        "f\"{name}さん、{minutes}分は{minutes * 60}秒です！\""
      ],
      "metadata": {
        "colab": {
          "base_uri": "https://localhost:8080/",
          "height": 35
        },
        "id": "nrmEpzqAvVEY",
        "outputId": "137268b5-bb34-41f5-d1b0-ebe3e778f137"
      },
      "execution_count": null,
      "outputs": [
        {
          "output_type": "execute_result",
          "data": {
            "text/plain": [
              "'タロウさん、5分は300秒です！'"
            ],
            "application/vnd.google.colaboratory.intrinsic+json": {
              "type": "string"
            }
          },
          "metadata": {},
          "execution_count": 3
        }
      ]
    },
    {
      "cell_type": "code",
      "source": [
        "\"ようこそ！名前を入力してください\"\n",
        "name = \"タロウ\"\n",
        "\n",
        "\"秒数を知りたい時間を分単位で入力してください\"\n",
        "minutes = 5\n",
        "seconds = minutes * 60\n",
        "\n",
        "f\"{name}さん、{minutes}分は{seconds}秒です！\""
      ],
      "metadata": {
        "id": "RBChp0fjvZoS",
        "outputId": "2c90d7f6-aa9a-405e-8c3c-ab9f93d8f10b",
        "colab": {
          "base_uri": "https://localhost:8080/",
          "height": 35
        }
      },
      "execution_count": null,
      "outputs": [
        {
          "output_type": "execute_result",
          "data": {
            "text/plain": [
              "'タロウさん、5分は300秒です！'"
            ],
            "application/vnd.google.colaboratory.intrinsic+json": {
              "type": "string"
            }
          },
          "metadata": {},
          "execution_count": 4
        }
      ]
    },
    {
      "cell_type": "code",
      "source": [
        "text = input()\n",
        "\n",
        "print(f\"入力した値は{text}です\")"
      ],
      "metadata": {
        "colab": {
          "base_uri": "https://localhost:8080/"
        },
        "id": "FruPqcWwj__K",
        "outputId": "23c42d00-2357-4994-967b-f15ebe0f2ac1"
      },
      "execution_count": null,
      "outputs": [
        {
          "output_type": "stream",
          "name": "stdout",
          "text": [
            "123\n",
            "入力した値は123です\n"
          ]
        }
      ]
    },
    {
      "cell_type": "code",
      "source": [
        "text = input()\n",
        "\n",
        "print(f\"入力した値は{text}です\")\n",
        "print(f\"入力した値は{text}です\\n\")\n",
        "print(f\"入力した値は{text}です\")"
      ],
      "metadata": {
        "colab": {
          "base_uri": "https://localhost:8080/"
        },
        "id": "sOVpuGJ1kM5N",
        "outputId": "9218e23f-93c5-4f9a-bd39-a77979bb5c0d"
      },
      "execution_count": null,
      "outputs": [
        {
          "output_type": "stream",
          "name": "stdout",
          "text": [
            "Python\n",
            "入力した値はPythonです\n",
            "入力した値はPythonです\n",
            "\n",
            "入力した値はPythonです\n"
          ]
        }
      ]
    },
    {
      "cell_type": "code",
      "source": [
        "print(\"ようこそ！\\n名前を入力してください\")\n",
        "name = \"タロウ\"\n",
        "\n",
        "print(\"秒数を知りたい時間を分単位で入力してください\")\n",
        "minutes = 5\n",
        "seconds = minutes * 60\n",
        "\n",
        "print(f\"{name}さん、{minutes}分は{seconds}秒です！\")"
      ],
      "metadata": {
        "colab": {
          "base_uri": "https://localhost:8080/"
        },
        "id": "EByGSfP3kSV3",
        "outputId": "0692c646-8f96-4928-fcfd-c396eea22dc4"
      },
      "execution_count": null,
      "outputs": [
        {
          "output_type": "stream",
          "name": "stdout",
          "text": [
            "ようこそ！\n",
            "名前を入力してください\n",
            "秒数を知りたい時間を分単位で入力してください\n",
            "タロウさん、5分は300秒です！\n"
          ]
        }
      ]
    },
    {
      "cell_type": "code",
      "source": [
        "print(\"ようこそ！\\n名前を入力してください\")\n",
        "name = input()\n",
        "\n",
        "print(\"秒数を知りたい時間を分単位で入力してください\")\n",
        "minutes = int(input())\n",
        "seconds = minutes * 60\n",
        "\n",
        "print(f\"{name}さん、{minutes}分は{seconds}秒です！\")"
      ],
      "metadata": {
        "colab": {
          "base_uri": "https://localhost:8080/"
        },
        "id": "A97oxvmIkgUl",
        "outputId": "3238a992-8e53-4ecd-daff-d8a02200afdb"
      },
      "execution_count": null,
      "outputs": [
        {
          "output_type": "stream",
          "name": "stdout",
          "text": [
            "ようこそ！\n",
            "名前を入力してください\n",
            "Pt\n",
            "秒数を知りたい時間を分単位で入力してください\n",
            "500\n",
            "Ptさん、500分は30000秒です！\n"
          ]
        }
      ]
    },
    {
      "cell_type": "code",
      "source": [
        "pencil_case = [\"ペン\", \"消しゴム\", \"定規\"]\n",
        "pencil_case.append(\"えんぴつ\")\n",
        "pencil_case[1] = \"修正ペン\"\n",
        "\n",
        "print(pencil_case)\n",
        "print(pencil_case[1])\n",
        "print(len(pencil_case))"
      ],
      "metadata": {
        "colab": {
          "base_uri": "https://localhost:8080/"
        },
        "id": "KG02E-qw_PgK",
        "outputId": "fba30d93-1388-499a-d64d-bff09e191b61"
      },
      "execution_count": null,
      "outputs": [
        {
          "output_type": "stream",
          "name": "stdout",
          "text": [
            "['ペン', '修正ペン', '定規', 'えんぴつ']\n",
            "修正ペン\n",
            "4\n"
          ]
        }
      ]
    },
    {
      "cell_type": "code",
      "source": [
        "ride_count = 0\n",
        "friends = []\n",
        "\n",
        "print(\"お友達の名前は?\")\n",
        "friends.append(input())\n",
        "print(\"お友達の身長は?\")\n",
        "friends.append(int(input()))\n",
        "ride_count += 1\n",
        "\n",
        "print(\"お友達の名前は?\")\n",
        "friends.append(input())\n",
        "print(\"お友達の身長は?\")\n",
        "friends.append(int(input()))\n",
        "ride_count += 1\n",
        "\n",
        "print(\"お友達の名前は?\")\n",
        "friends.append(input())\n",
        "print(\"お友達の身長は?\")\n",
        "friends.append(int(input()))\n",
        "ride_count += 1\n",
        "\n",
        "print(f\"乗車するのは{ride_count}人です\")"
      ],
      "metadata": {
        "colab": {
          "base_uri": "https://localhost:8080/"
        },
        "id": "1LL31SITATAf",
        "outputId": "57b59877-f468-481b-cc10-048723f33e25"
      },
      "execution_count": null,
      "outputs": [
        {
          "output_type": "stream",
          "name": "stdout",
          "text": [
            "お友達の名前は?\n",
            "ヨシオ\n",
            "お友達の身長は?\n",
            "150\n",
            "お友達の名前は?\n",
            "ザビエル\n",
            "お友達の身長は?\n",
            "170\n",
            "お友達の名前は?\n",
            "ゴンザレス\n",
            "お友達の身長は?\n",
            "140\n",
            "乗車するのは3人です\n"
          ]
        }
      ]
    },
    {
      "cell_type": "code",
      "source": [
        "student = {\"name\": \"John\", \"age\": 10}\n",
        "teacher = {\"name\": \"Mike\", \"age\": 25 }\n",
        "\n",
        "teacher[\"subject\"] = \"English\"\n",
        "teacher[\"name\"] = \"Emma\"\n",
        "\n",
        "print(student)\n",
        "print(teacher)\n",
        "print(teacher[\"name\"])"
      ],
      "metadata": {
        "colab": {
          "base_uri": "https://localhost:8080/"
        },
        "id": "_ya77_QgKzmr",
        "outputId": "cb4ce1d4-e638-4c65-dcdc-563cd789dfab"
      },
      "execution_count": null,
      "outputs": [
        {
          "output_type": "stream",
          "name": "stdout",
          "text": [
            "{'name': 'John', 'age': 10}\n",
            "{'name': 'Emma', 'age': 25, 'subject': 'English'}\n",
            "Emma\n"
          ]
        }
      ]
    },
    {
      "cell_type": "code",
      "source": [
        "ride_count = 0\n",
        "friends = []\n",
        "\n",
        "friend = {}\n",
        "print(\"お友達の名前は？\")\n",
        "friend[\"name\"] = input()\n",
        "print(\"お友達の身長は？\")\n",
        "friend[\"height\"] = int(input())\n",
        "friends.append(friend)\n",
        "ride_count += 1\n",
        "\n",
        "friend = {}\n",
        "print(\"お友達の名前は？\")\n",
        "friend[\"name\"] = input()\n",
        "print(\"お友達の身長は？\")\n",
        "friend[\"height\"] = int(input())\n",
        "friends.append(friend)\n",
        "ride_count += 1\n",
        "\n",
        "friend = {}\n",
        "print(\"お友達の名前は？\")\n",
        "friend[\"name\"] = input()\n",
        "print(\"お友達の身長は？\")\n",
        "friend[\"height\"] = int(input())\n",
        "friends.append(friend)\n",
        "ride_count += 1\n",
        "\n",
        "print(f\"乗車するのは{ride_count}人です\")"
      ],
      "metadata": {
        "colab": {
          "base_uri": "https://localhost:8080/"
        },
        "id": "szI1q9x1MOjz",
        "outputId": "4397a178-5fcf-483c-f2d2-601dd934e748"
      },
      "execution_count": null,
      "outputs": [
        {
          "output_type": "stream",
          "name": "stdout",
          "text": [
            "お友達の名前は？\n",
            "aaa\n",
            "お友達の身長は？\n",
            "100\n",
            "お友達の名前は？\n",
            "bbb\n",
            "お友達の身長は？\n",
            "1000\n",
            "お友達の名前は？\n",
            "ccc\n",
            "お友達の身長は？\n",
            "10000\n",
            "乗車するのは3人です\n"
          ]
        }
      ]
    },
    {
      "cell_type": "code",
      "source": [
        "print('東京タワーの高さはスカイツリー以下か？')\n",
        "print(333 <= 634)\n",
        "\n",
        "print('東京タワーの高さはスカイツリー以上か？')\n",
        "print(333 >= 634)"
      ],
      "metadata": {
        "colab": {
          "base_uri": "https://localhost:8080/"
        },
        "id": "_Uz8g4laWXK0",
        "outputId": "df9eee72-87e4-4c35-d3a4-0f7ff492a05d"
      },
      "execution_count": null,
      "outputs": [
        {
          "output_type": "stream",
          "name": "stdout",
          "text": [
            "東京タワーの高さはスカイツリー以下か？\n",
            "True\n",
            "東京タワーの高さはスカイツリー以上か？\n",
            "False\n"
          ]
        }
      ]
    },
    {
      "cell_type": "code",
      "source": [
        "print('数値の777と文字列の\"777\"は異なるか？')\n",
        "print(777 != \"777\")\n",
        "\n",
        "print('文字列\"海\"と\"海\"は異なるか？')\n",
        "print(\"海\" != \"海\")"
      ],
      "metadata": {
        "colab": {
          "base_uri": "https://localhost:8080/"
        },
        "id": "Fr1Wm0gsWrsU",
        "outputId": "cb7f0664-8945-4013-c2a9-a29f20b8ed29"
      },
      "execution_count": null,
      "outputs": [
        {
          "output_type": "stream",
          "name": "stdout",
          "text": [
            "数値の777と文字列の\"777\"は異なるか？\n",
            "True\n",
            "文字列\"海\"と\"海\"は異なるか？\n",
            "False\n"
          ]
        }
      ]
    },
    {
      "cell_type": "code",
      "source": [
        "value = 3\n",
        "\n",
        "if value > 0:\n",
        "    print(\"値は正です\")"
      ],
      "metadata": {
        "colab": {
          "base_uri": "https://localhost:8080/"
        },
        "id": "ryKU4xChXVRP",
        "outputId": "32fc2469-3aa7-4191-83a9-277662b892f4"
      },
      "execution_count": null,
      "outputs": [
        {
          "output_type": "stream",
          "name": "stdout",
          "text": [
            "値は正です\n"
          ]
        }
      ]
    },
    {
      "cell_type": "code",
      "source": [
        "value = -1\n",
        "\n",
        "if value > 0:\n",
        "    print(\"値は正です\")\n",
        "else:\n",
        "    print (\"値は負です\")"
      ],
      "metadata": {
        "colab": {
          "base_uri": "https://localhost:8080/"
        },
        "id": "__TmvqlpXacv",
        "outputId": "88728a41-1110-4b4f-ad1f-9e66a67c1e02"
      },
      "execution_count": null,
      "outputs": [
        {
          "output_type": "stream",
          "name": "stdout",
          "text": [
            "値は負です\n"
          ]
        }
      ]
    },
    {
      "cell_type": "code",
      "source": [
        "alue =int(input())\n",
        "\n",
        "if value > 0:\n",
        "    print(\"値は正です\")\n",
        "elif value < 0:\n",
        "    print(\"値は負です\")\n",
        "else:\n",
        "    print(\"値は0です\")"
      ],
      "metadata": {
        "colab": {
          "base_uri": "https://localhost:8080/"
        },
        "id": "dX-BMvf0Xe8p",
        "outputId": "83205a83-1ba6-49c1-abe9-f4eeefb17e14"
      },
      "execution_count": null,
      "outputs": [
        {
          "output_type": "stream",
          "name": "stdout",
          "text": [
            "5\n",
            "値は負です\n"
          ]
        }
      ]
    },
    {
      "cell_type": "code",
      "source": [
        "ride_count = 0\n",
        "friends = []\n",
        "\n",
        "friend = {}\n",
        "print(\"お友達の名前は？\")\n",
        "friend[\"name\"] = input()\n",
        "print(\"お友達の身長は？\")\n",
        "friend[\"height\"] = int(input())\n",
        "friends.append(friend)\n",
        "if friend[\"height\"] >= 130:\n",
        "    print (f\"{friend['name']}くんは乗車できます\")\n",
        "    ride_count += 1\n",
        "else:\n",
        "    print(f\"{friend['name']}くんは乗車できません！\")\n",
        "\n",
        "\n",
        "friend = {}\n",
        "print(\"お友達の名前は？\")\n",
        "friend[\"name\"] = input()\n",
        "print(\"お友達の身長は？\")\n",
        "friend[\"height\"] = int(input())\n",
        "friends.append(friend)\n",
        "if friend[\"height\"] >= 130:\n",
        "    print (f\"{friend['name']}くんは乗車できます\")\n",
        "    ride_count += 1\n",
        "else:\n",
        "    print(f\"{friend['name']}くんは乗車できません！\")\n",
        "\n",
        "\n",
        "friend = {}\n",
        "print(\"お友達の名前は？\")\n",
        "friend['name'] = input()\n",
        "print(\"お友達の身長は？\")\n",
        "friend['height'] = int(input())\n",
        "friends.append(friend)\n",
        "if friend['height'] >= 130:\n",
        "    print (f\"{friend['name']}くんは乗車できます\")\n",
        "    ride_count += 1\n",
        "else:\n",
        "    print(f\"{friend['name']}くんは乗車できません！\")\n",
        "\n",
        "\n",
        "print(f\"乗車するのは{ride_count}人です\")"
      ],
      "metadata": {
        "colab": {
          "base_uri": "https://localhost:8080/"
        },
        "id": "_5JbFdOEXn4P",
        "outputId": "5fcb287b-f196-409c-f213-99e4fc768f08"
      },
      "execution_count": null,
      "outputs": [
        {
          "output_type": "stream",
          "name": "stdout",
          "text": [
            "お友達の名前は？\n",
            "a\n",
            "お友達の身長は？\n",
            "100\n",
            "aくんは乗車できません！\n",
            "お友達の名前は？\n",
            "b\n",
            "お友達の身長は？\n",
            "1000\n",
            "bくんは乗車できます\n",
            "お友達の名前は？\n",
            "c\n",
            "お友達の身長は？\n",
            "10000\n",
            "cくんは乗車できます\n",
            "乗車するのは2人です\n"
          ]
        }
      ]
    },
    {
      "cell_type": "code",
      "source": [
        "colors = [\"あか\", \"あお\", \"きいろ\"]\n",
        "for color in colors:\n",
        "  print(f\"色: {color}\")"
      ],
      "metadata": {
        "colab": {
          "base_uri": "https://localhost:8080/"
        },
        "id": "M60ITPj9QFbg",
        "outputId": "7b67ee16-8f0b-4e5e-e6a1-37c41a0b2ba0"
      },
      "execution_count": null,
      "outputs": [
        {
          "output_type": "stream",
          "name": "stdout",
          "text": [
            "色: あか\n",
            "色: あお\n",
            "色: きいろ\n"
          ]
        }
      ]
    },
    {
      "cell_type": "code",
      "source": [
        "for i in range(10):\n",
        "  print(i + 1)"
      ],
      "metadata": {
        "colab": {
          "base_uri": "https://localhost:8080/"
        },
        "id": "xxNbsmUIQpqb",
        "outputId": "cf6ba7a6-4ca9-4b90-ce8a-8823ba3dbaac"
      },
      "execution_count": null,
      "outputs": [
        {
          "output_type": "stream",
          "name": "stdout",
          "text": [
            "1\n",
            "2\n",
            "3\n",
            "4\n",
            "5\n",
            "6\n",
            "7\n",
            "8\n",
            "9\n",
            "10\n"
          ]
        }
      ]
    },
    {
      "cell_type": "code",
      "source": [
        "ride_count = 0\n",
        "friends = []\n",
        "\n",
        "for i in range(3):\n",
        "    friend = {}\n",
        "    print(\"お友達の名前は？\")\n",
        "    friend[\"name\"] = input()\n",
        "    print(\"お友達の身長は？\")\n",
        "    friend[\"height\"] = int(input())\n",
        "    friends.append(friend)\n",
        "    if friend[\"height\"] >= 130:\n",
        "        print (f\"{friend['name']}くんは乗車できます\")\n",
        "        ride_count += 1\n",
        "    else:\n",
        "        print(f\"{friend['name']}くんは乗車できません！\")\n",
        "\n",
        "print(f\"乗車できるのは{ride_count}人です\")"
      ],
      "metadata": {
        "colab": {
          "base_uri": "https://localhost:8080/"
        },
        "id": "iKIAzceWQy0S",
        "outputId": "b545b34c-cf91-4d6e-e786-f0eb0fe4218e"
      },
      "execution_count": null,
      "outputs": [
        {
          "output_type": "stream",
          "name": "stdout",
          "text": [
            "お友達の名前は？\n",
            "1\n",
            "お友達の身長は？\n",
            "100\n",
            "1くんは乗車できません！\n",
            "お友達の名前は？\n",
            "2\n",
            "お友達の身長は？\n",
            "200\n",
            "2くんは乗車できます\n",
            "お友達の名前は？\n",
            "3\n",
            "お友達の身長は？\n",
            "300\n",
            "3くんは乗車できます\n",
            "乗車できるのは2人です\n"
          ]
        }
      ]
    },
    {
      "cell_type": "code",
      "source": [
        "ride_count = 0\n",
        "friends = []\n",
        "\n",
        "for i in range(3):\n",
        "    friend = {}\n",
        "    print(\"お友達の名前は？\")\n",
        "    friend['name']=input()\n",
        "    print(\"お友達の身長は？\")\n",
        "    friend['height']=int(input())\n",
        "    friends.append(friend)\n",
        "\n",
        "for friend in friends:\n",
        "    if friend['height']>=130:\n",
        "        print(f\"{friend['name']}くんは乗車できます\")\n",
        "        ride_count += 1\n",
        "    else:\n",
        "        print(f\"{friend['name']}くんは乗車できません！\")\n",
        "\n",
        "print(f\"乗車するのは{ride_count}人です\")"
      ],
      "metadata": {
        "id": "i4olf3cpR3aF",
        "outputId": "e79f551f-36ad-47b4-953f-0b9524387a9c",
        "colab": {
          "base_uri": "https://localhost:8080/"
        }
      },
      "execution_count": null,
      "outputs": [
        {
          "output_type": "stream",
          "name": "stdout",
          "text": [
            "お友達の名前は？\n",
            "a\n",
            "お友達の身長は？\n",
            "100\n",
            "お友達の名前は？\n",
            "2\n",
            "お友達の身長は？\n",
            "200\n",
            "お友達の名前は？\n",
            "c\n",
            "お友達の身長は？\n",
            "300\n",
            "aくんは乗車できません！\n",
            "2くんは乗車できます\n",
            "cくんは乗車できます\n",
            "乗車するのは2人です\n"
          ]
        }
      ]
    },
    {
      "cell_type": "code",
      "source": [
        "def say_hello():\n",
        "    print(\"Hello World\")\n",
        "\n",
        "# 関数の実行\n",
        "say_hello()"
      ],
      "metadata": {
        "colab": {
          "base_uri": "https://localhost:8080/"
        },
        "id": "hvbiGGlztvi7",
        "outputId": "f029d00b-b244-49aa-e65b-b7b326aab6dc"
      },
      "execution_count": 1,
      "outputs": [
        {
          "output_type": "stream",
          "name": "stdout",
          "text": [
            "Hello World\n"
          ]
        }
      ]
    },
    {
      "cell_type": "code",
      "source": [
        "def mixer(fruit):\n",
        "    print(f\"{fruit}を細かく砕く\")\n",
        "    return(f\"{fruit}ジュース\")\n",
        "\n",
        "print(\"フルーツを入力してください\")\n",
        "fruit = input()\n",
        "\n",
        "print(mixer(fruit))"
      ],
      "metadata": {
        "colab": {
          "base_uri": "https://localhost:8080/"
        },
        "id": "jZb9gAW1ygRM",
        "outputId": "c0b2478f-d452-4273-e06b-edb0ea850fe2"
      },
      "execution_count": 2,
      "outputs": [
        {
          "output_type": "stream",
          "name": "stdout",
          "text": [
            "フルーツを入力してください\n",
            "7\n",
            "7を細かく砕く\n",
            "7ジュース\n"
          ]
        }
      ]
    },
    {
      "cell_type": "code",
      "source": [
        "def judge_height(list):\n",
        "    ride_count = 0\n",
        "\n",
        "    for friend in list:\n",
        "        if friend['height']>=130:\n",
        "            print(f\"{friend['name']}くんは乗車できます\")\n",
        "            ride_count += 1\n",
        "        else:\n",
        "            print(f\"{friend['name']}くんは乗車できません！\")\n",
        "    print(f\"乗車するのは{ride_count}人です\")\n",
        "\n",
        "def add_friend(list):\n",
        "    friend = {}\n",
        "    print(\"お友達の名前は？\")\n",
        "    friend['name']=input()\n",
        "    print(\"お友達の身長は？\")\n",
        "    friend['height']=int(input())\n",
        "    list.append(friend)\n",
        "\n",
        "friends = []\n",
        "\n",
        "for i in range(3):\n",
        "    add_friend(friends)\n",
        "\n",
        "judge_height(friends)23"
      ],
      "metadata": {
        "colab": {
          "base_uri": "https://localhost:8080/"
        },
        "id": "_eeAYNdNyqU4",
        "outputId": "a15604c6-80c2-4bf9-eeec-031c1b75feca"
      },
      "execution_count": 3,
      "outputs": [
        {
          "output_type": "stream",
          "name": "stdout",
          "text": [
            "お友達の名前は？\n",
            "1\n",
            "お友達の身長は？\n",
            "100\n",
            "お友達の名前は？\n",
            "2\n",
            "お友達の身長は？\n",
            "200\n",
            "お友達の名前は？\n",
            "3\n",
            "お友達の身長は？\n",
            "300\n",
            "1くんは乗車できません！\n",
            "2くんは乗車できます\n",
            "3くんは乗車できます\n",
            "乗車するのは2人です\n"
          ]
        }
      ]
    }
  ]
}